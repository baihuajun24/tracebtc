{
 "cells": [
  {
   "cell_type": "code",
   "execution_count": 2,
   "metadata": {
    "collapsed": true
   },
   "outputs": [],
   "source": [
    "import pandas as pd\n",
    "import numpy as np\n",
    "from bq_helper import BigQueryHelper"
   ]
  },
  {
   "cell_type": "code",
   "execution_count": 5,
   "metadata": {
    "collapsed": true
   },
   "outputs": [],
   "source": [
    "from blockchain import blockexplorer\n",
    "from blockchain import util\n",
    "import time"
   ]
  },
  {
   "cell_type": "code",
   "execution_count": 9,
   "metadata": {
    "collapsed": true
   },
   "outputs": [],
   "source": [
    "from google.cloud import bigquery"
   ]
  },
  {
   "cell_type": "code",
   "execution_count": 8,
   "metadata": {
    "collapsed": true
   },
   "outputs": [],
   "source": [
    "query = \"\"\"\n",
    "SELECT\n",
    " count(`hash`)\n",
    "FROM\n",
    "  `bigquery-public-data.crypto_bitcoin.blocks` blocks\n",
    "\"\"\""
   ]
  },
  {
   "cell_type": "code",
   "execution_count": 11,
   "metadata": {},
   "outputs": [
    {
     "ename": "ConnectionError",
     "evalue": "('Connection aborted.', RemoteDisconnected('Remote end closed connection without response',))",
     "output_type": "error",
     "traceback": [
      "\u001b[1;31m--------------------------------------------------------\u001b[0m",
      "\u001b[1;31mRemoteDisconnected\u001b[0m     Traceback (most recent call last)",
      "\u001b[1;32mC:\\Users\\Huajun\\Anaconda3\\lib\\site-packages\\requests\\packages\\urllib3\\connectionpool.py\u001b[0m in \u001b[0;36murlopen\u001b[1;34m(self, method, url, body, headers, retries, redirect, assert_same_host, timeout, pool_timeout, release_conn, chunked, body_pos, **response_kw)\u001b[0m\n\u001b[0;32m    599\u001b[0m                                                   \u001b[0mbody\u001b[0m\u001b[1;33m=\u001b[0m\u001b[0mbody\u001b[0m\u001b[1;33m,\u001b[0m \u001b[0mheaders\u001b[0m\u001b[1;33m=\u001b[0m\u001b[0mheaders\u001b[0m\u001b[1;33m,\u001b[0m\u001b[1;33m\u001b[0m\u001b[0m\n\u001b[1;32m--> 600\u001b[1;33m                                                   chunked=chunked)\n\u001b[0m\u001b[0;32m    601\u001b[0m \u001b[1;33m\u001b[0m\u001b[0m\n",
      "\u001b[1;32mC:\\Users\\Huajun\\Anaconda3\\lib\\site-packages\\requests\\packages\\urllib3\\connectionpool.py\u001b[0m in \u001b[0;36m_make_request\u001b[1;34m(self, conn, method, url, timeout, chunked, **httplib_request_kw)\u001b[0m\n\u001b[0;32m    385\u001b[0m                     \u001b[1;31m# otherwise it looks like a programming error was the cause.\u001b[0m\u001b[1;33m\u001b[0m\u001b[1;33m\u001b[0m\u001b[0m\n\u001b[1;32m--> 386\u001b[1;33m                     \u001b[0msix\u001b[0m\u001b[1;33m.\u001b[0m\u001b[0mraise_from\u001b[0m\u001b[1;33m(\u001b[0m\u001b[0me\u001b[0m\u001b[1;33m,\u001b[0m \u001b[1;32mNone\u001b[0m\u001b[1;33m)\u001b[0m\u001b[1;33m\u001b[0m\u001b[0m\n\u001b[0m\u001b[0;32m    387\u001b[0m         \u001b[1;32mexcept\u001b[0m \u001b[1;33m(\u001b[0m\u001b[0mSocketTimeout\u001b[0m\u001b[1;33m,\u001b[0m \u001b[0mBaseSSLError\u001b[0m\u001b[1;33m,\u001b[0m \u001b[0mSocketError\u001b[0m\u001b[1;33m)\u001b[0m \u001b[1;32mas\u001b[0m \u001b[0me\u001b[0m\u001b[1;33m:\u001b[0m\u001b[1;33m\u001b[0m\u001b[0m\n",
      "\u001b[1;32mC:\\Users\\Huajun\\Anaconda3\\lib\\site-packages\\requests\\packages\\urllib3\\packages\\six.py\u001b[0m in \u001b[0;36mraise_from\u001b[1;34m(value, from_value)\u001b[0m\n",
      "\u001b[1;32mC:\\Users\\Huajun\\Anaconda3\\lib\\site-packages\\requests\\packages\\urllib3\\connectionpool.py\u001b[0m in \u001b[0;36m_make_request\u001b[1;34m(self, conn, method, url, timeout, chunked, **httplib_request_kw)\u001b[0m\n\u001b[0;32m    381\u001b[0m                 \u001b[1;32mtry\u001b[0m\u001b[1;33m:\u001b[0m\u001b[1;33m\u001b[0m\u001b[0m\n\u001b[1;32m--> 382\u001b[1;33m                     \u001b[0mhttplib_response\u001b[0m \u001b[1;33m=\u001b[0m \u001b[0mconn\u001b[0m\u001b[1;33m.\u001b[0m\u001b[0mgetresponse\u001b[0m\u001b[1;33m(\u001b[0m\u001b[1;33m)\u001b[0m\u001b[1;33m\u001b[0m\u001b[0m\n\u001b[0m\u001b[0;32m    383\u001b[0m                 \u001b[1;32mexcept\u001b[0m \u001b[0mException\u001b[0m \u001b[1;32mas\u001b[0m \u001b[0me\u001b[0m\u001b[1;33m:\u001b[0m\u001b[1;33m\u001b[0m\u001b[0m\n",
      "\u001b[1;32mC:\\Users\\Huajun\\Anaconda3\\lib\\http\\client.py\u001b[0m in \u001b[0;36mgetresponse\u001b[1;34m(self)\u001b[0m\n\u001b[0;32m   1330\u001b[0m             \u001b[1;32mtry\u001b[0m\u001b[1;33m:\u001b[0m\u001b[1;33m\u001b[0m\u001b[0m\n\u001b[1;32m-> 1331\u001b[1;33m                 \u001b[0mresponse\u001b[0m\u001b[1;33m.\u001b[0m\u001b[0mbegin\u001b[0m\u001b[1;33m(\u001b[0m\u001b[1;33m)\u001b[0m\u001b[1;33m\u001b[0m\u001b[0m\n\u001b[0m\u001b[0;32m   1332\u001b[0m             \u001b[1;32mexcept\u001b[0m \u001b[0mConnectionError\u001b[0m\u001b[1;33m:\u001b[0m\u001b[1;33m\u001b[0m\u001b[0m\n",
      "\u001b[1;32mC:\\Users\\Huajun\\Anaconda3\\lib\\http\\client.py\u001b[0m in \u001b[0;36mbegin\u001b[1;34m(self)\u001b[0m\n\u001b[0;32m    296\u001b[0m         \u001b[1;32mwhile\u001b[0m \u001b[1;32mTrue\u001b[0m\u001b[1;33m:\u001b[0m\u001b[1;33m\u001b[0m\u001b[0m\n\u001b[1;32m--> 297\u001b[1;33m             \u001b[0mversion\u001b[0m\u001b[1;33m,\u001b[0m \u001b[0mstatus\u001b[0m\u001b[1;33m,\u001b[0m \u001b[0mreason\u001b[0m \u001b[1;33m=\u001b[0m \u001b[0mself\u001b[0m\u001b[1;33m.\u001b[0m\u001b[0m_read_status\u001b[0m\u001b[1;33m(\u001b[0m\u001b[1;33m)\u001b[0m\u001b[1;33m\u001b[0m\u001b[0m\n\u001b[0m\u001b[0;32m    298\u001b[0m             \u001b[1;32mif\u001b[0m \u001b[0mstatus\u001b[0m \u001b[1;33m!=\u001b[0m \u001b[0mCONTINUE\u001b[0m\u001b[1;33m:\u001b[0m\u001b[1;33m\u001b[0m\u001b[0m\n",
      "\u001b[1;32mC:\\Users\\Huajun\\Anaconda3\\lib\\http\\client.py\u001b[0m in \u001b[0;36m_read_status\u001b[1;34m(self)\u001b[0m\n\u001b[0;32m    265\u001b[0m             \u001b[1;31m# sending a valid response.\u001b[0m\u001b[1;33m\u001b[0m\u001b[1;33m\u001b[0m\u001b[0m\n\u001b[1;32m--> 266\u001b[1;33m             raise RemoteDisconnected(\"Remote end closed connection without\"\n\u001b[0m\u001b[0;32m    267\u001b[0m                                      \" response\")\n",
      "\u001b[1;31mRemoteDisconnected\u001b[0m: Remote end closed connection without response",
      "\nDuring handling of the above exception, another exception occurred:\n",
      "\u001b[1;31mProtocolError\u001b[0m          Traceback (most recent call last)",
      "\u001b[1;32mC:\\Users\\Huajun\\Anaconda3\\lib\\site-packages\\requests\\adapters.py\u001b[0m in \u001b[0;36msend\u001b[1;34m(self, request, stream, timeout, verify, cert, proxies)\u001b[0m\n\u001b[0;32m    437\u001b[0m                     \u001b[0mretries\u001b[0m\u001b[1;33m=\u001b[0m\u001b[0mself\u001b[0m\u001b[1;33m.\u001b[0m\u001b[0mmax_retries\u001b[0m\u001b[1;33m,\u001b[0m\u001b[1;33m\u001b[0m\u001b[0m\n\u001b[1;32m--> 438\u001b[1;33m                     \u001b[0mtimeout\u001b[0m\u001b[1;33m=\u001b[0m\u001b[0mtimeout\u001b[0m\u001b[1;33m\u001b[0m\u001b[0m\n\u001b[0m\u001b[0;32m    439\u001b[0m                 )\n",
      "\u001b[1;32mC:\\Users\\Huajun\\Anaconda3\\lib\\site-packages\\requests\\packages\\urllib3\\connectionpool.py\u001b[0m in \u001b[0;36murlopen\u001b[1;34m(self, method, url, body, headers, retries, redirect, assert_same_host, timeout, pool_timeout, release_conn, chunked, body_pos, **response_kw)\u001b[0m\n\u001b[0;32m    648\u001b[0m             retries = retries.increment(method, url, error=e, _pool=self,\n\u001b[1;32m--> 649\u001b[1;33m                                         _stacktrace=sys.exc_info()[2])\n\u001b[0m\u001b[0;32m    650\u001b[0m             \u001b[0mretries\u001b[0m\u001b[1;33m.\u001b[0m\u001b[0msleep\u001b[0m\u001b[1;33m(\u001b[0m\u001b[1;33m)\u001b[0m\u001b[1;33m\u001b[0m\u001b[0m\n",
      "\u001b[1;32mC:\\Users\\Huajun\\Anaconda3\\lib\\site-packages\\requests\\packages\\urllib3\\util\\retry.py\u001b[0m in \u001b[0;36mincrement\u001b[1;34m(self, method, url, response, error, _pool, _stacktrace)\u001b[0m\n\u001b[0;32m    356\u001b[0m             \u001b[1;32mif\u001b[0m \u001b[0mread\u001b[0m \u001b[1;32mis\u001b[0m \u001b[1;32mFalse\u001b[0m \u001b[1;32mor\u001b[0m \u001b[1;32mnot\u001b[0m \u001b[0mself\u001b[0m\u001b[1;33m.\u001b[0m\u001b[0m_is_method_retryable\u001b[0m\u001b[1;33m(\u001b[0m\u001b[0mmethod\u001b[0m\u001b[1;33m)\u001b[0m\u001b[1;33m:\u001b[0m\u001b[1;33m\u001b[0m\u001b[0m\n\u001b[1;32m--> 357\u001b[1;33m                 \u001b[1;32mraise\u001b[0m \u001b[0msix\u001b[0m\u001b[1;33m.\u001b[0m\u001b[0mreraise\u001b[0m\u001b[1;33m(\u001b[0m\u001b[0mtype\u001b[0m\u001b[1;33m(\u001b[0m\u001b[0merror\u001b[0m\u001b[1;33m)\u001b[0m\u001b[1;33m,\u001b[0m \u001b[0merror\u001b[0m\u001b[1;33m,\u001b[0m \u001b[0m_stacktrace\u001b[0m\u001b[1;33m)\u001b[0m\u001b[1;33m\u001b[0m\u001b[0m\n\u001b[0m\u001b[0;32m    358\u001b[0m             \u001b[1;32melif\u001b[0m \u001b[0mread\u001b[0m \u001b[1;32mis\u001b[0m \u001b[1;32mnot\u001b[0m \u001b[1;32mNone\u001b[0m\u001b[1;33m:\u001b[0m\u001b[1;33m\u001b[0m\u001b[0m\n",
      "\u001b[1;32mC:\\Users\\Huajun\\Anaconda3\\lib\\site-packages\\requests\\packages\\urllib3\\packages\\six.py\u001b[0m in \u001b[0;36mreraise\u001b[1;34m(tp, value, tb)\u001b[0m\n\u001b[0;32m    684\u001b[0m         \u001b[1;32mif\u001b[0m \u001b[0mvalue\u001b[0m\u001b[1;33m.\u001b[0m\u001b[0m__traceback__\u001b[0m \u001b[1;32mis\u001b[0m \u001b[1;32mnot\u001b[0m \u001b[0mtb\u001b[0m\u001b[1;33m:\u001b[0m\u001b[1;33m\u001b[0m\u001b[0m\n\u001b[1;32m--> 685\u001b[1;33m             \u001b[1;32mraise\u001b[0m \u001b[0mvalue\u001b[0m\u001b[1;33m.\u001b[0m\u001b[0mwith_traceback\u001b[0m\u001b[1;33m(\u001b[0m\u001b[0mtb\u001b[0m\u001b[1;33m)\u001b[0m\u001b[1;33m\u001b[0m\u001b[0m\n\u001b[0m\u001b[0;32m    686\u001b[0m         \u001b[1;32mraise\u001b[0m \u001b[0mvalue\u001b[0m\u001b[1;33m\u001b[0m\u001b[0m\n",
      "\u001b[1;32mC:\\Users\\Huajun\\Anaconda3\\lib\\site-packages\\requests\\packages\\urllib3\\connectionpool.py\u001b[0m in \u001b[0;36murlopen\u001b[1;34m(self, method, url, body, headers, retries, redirect, assert_same_host, timeout, pool_timeout, release_conn, chunked, body_pos, **response_kw)\u001b[0m\n\u001b[0;32m    599\u001b[0m                                                   \u001b[0mbody\u001b[0m\u001b[1;33m=\u001b[0m\u001b[0mbody\u001b[0m\u001b[1;33m,\u001b[0m \u001b[0mheaders\u001b[0m\u001b[1;33m=\u001b[0m\u001b[0mheaders\u001b[0m\u001b[1;33m,\u001b[0m\u001b[1;33m\u001b[0m\u001b[0m\n\u001b[1;32m--> 600\u001b[1;33m                                                   chunked=chunked)\n\u001b[0m\u001b[0;32m    601\u001b[0m \u001b[1;33m\u001b[0m\u001b[0m\n",
      "\u001b[1;32mC:\\Users\\Huajun\\Anaconda3\\lib\\site-packages\\requests\\packages\\urllib3\\connectionpool.py\u001b[0m in \u001b[0;36m_make_request\u001b[1;34m(self, conn, method, url, timeout, chunked, **httplib_request_kw)\u001b[0m\n\u001b[0;32m    385\u001b[0m                     \u001b[1;31m# otherwise it looks like a programming error was the cause.\u001b[0m\u001b[1;33m\u001b[0m\u001b[1;33m\u001b[0m\u001b[0m\n\u001b[1;32m--> 386\u001b[1;33m                     \u001b[0msix\u001b[0m\u001b[1;33m.\u001b[0m\u001b[0mraise_from\u001b[0m\u001b[1;33m(\u001b[0m\u001b[0me\u001b[0m\u001b[1;33m,\u001b[0m \u001b[1;32mNone\u001b[0m\u001b[1;33m)\u001b[0m\u001b[1;33m\u001b[0m\u001b[0m\n\u001b[0m\u001b[0;32m    387\u001b[0m         \u001b[1;32mexcept\u001b[0m \u001b[1;33m(\u001b[0m\u001b[0mSocketTimeout\u001b[0m\u001b[1;33m,\u001b[0m \u001b[0mBaseSSLError\u001b[0m\u001b[1;33m,\u001b[0m \u001b[0mSocketError\u001b[0m\u001b[1;33m)\u001b[0m \u001b[1;32mas\u001b[0m \u001b[0me\u001b[0m\u001b[1;33m:\u001b[0m\u001b[1;33m\u001b[0m\u001b[0m\n",
      "\u001b[1;32mC:\\Users\\Huajun\\Anaconda3\\lib\\site-packages\\requests\\packages\\urllib3\\packages\\six.py\u001b[0m in \u001b[0;36mraise_from\u001b[1;34m(value, from_value)\u001b[0m\n",
      "\u001b[1;32mC:\\Users\\Huajun\\Anaconda3\\lib\\site-packages\\requests\\packages\\urllib3\\connectionpool.py\u001b[0m in \u001b[0;36m_make_request\u001b[1;34m(self, conn, method, url, timeout, chunked, **httplib_request_kw)\u001b[0m\n\u001b[0;32m    381\u001b[0m                 \u001b[1;32mtry\u001b[0m\u001b[1;33m:\u001b[0m\u001b[1;33m\u001b[0m\u001b[0m\n\u001b[1;32m--> 382\u001b[1;33m                     \u001b[0mhttplib_response\u001b[0m \u001b[1;33m=\u001b[0m \u001b[0mconn\u001b[0m\u001b[1;33m.\u001b[0m\u001b[0mgetresponse\u001b[0m\u001b[1;33m(\u001b[0m\u001b[1;33m)\u001b[0m\u001b[1;33m\u001b[0m\u001b[0m\n\u001b[0m\u001b[0;32m    383\u001b[0m                 \u001b[1;32mexcept\u001b[0m \u001b[0mException\u001b[0m \u001b[1;32mas\u001b[0m \u001b[0me\u001b[0m\u001b[1;33m:\u001b[0m\u001b[1;33m\u001b[0m\u001b[0m\n",
      "\u001b[1;32mC:\\Users\\Huajun\\Anaconda3\\lib\\http\\client.py\u001b[0m in \u001b[0;36mgetresponse\u001b[1;34m(self)\u001b[0m\n\u001b[0;32m   1330\u001b[0m             \u001b[1;32mtry\u001b[0m\u001b[1;33m:\u001b[0m\u001b[1;33m\u001b[0m\u001b[0m\n\u001b[1;32m-> 1331\u001b[1;33m                 \u001b[0mresponse\u001b[0m\u001b[1;33m.\u001b[0m\u001b[0mbegin\u001b[0m\u001b[1;33m(\u001b[0m\u001b[1;33m)\u001b[0m\u001b[1;33m\u001b[0m\u001b[0m\n\u001b[0m\u001b[0;32m   1332\u001b[0m             \u001b[1;32mexcept\u001b[0m \u001b[0mConnectionError\u001b[0m\u001b[1;33m:\u001b[0m\u001b[1;33m\u001b[0m\u001b[0m\n",
      "\u001b[1;32mC:\\Users\\Huajun\\Anaconda3\\lib\\http\\client.py\u001b[0m in \u001b[0;36mbegin\u001b[1;34m(self)\u001b[0m\n\u001b[0;32m    296\u001b[0m         \u001b[1;32mwhile\u001b[0m \u001b[1;32mTrue\u001b[0m\u001b[1;33m:\u001b[0m\u001b[1;33m\u001b[0m\u001b[0m\n\u001b[1;32m--> 297\u001b[1;33m             \u001b[0mversion\u001b[0m\u001b[1;33m,\u001b[0m \u001b[0mstatus\u001b[0m\u001b[1;33m,\u001b[0m \u001b[0mreason\u001b[0m \u001b[1;33m=\u001b[0m \u001b[0mself\u001b[0m\u001b[1;33m.\u001b[0m\u001b[0m_read_status\u001b[0m\u001b[1;33m(\u001b[0m\u001b[1;33m)\u001b[0m\u001b[1;33m\u001b[0m\u001b[0m\n\u001b[0m\u001b[0;32m    298\u001b[0m             \u001b[1;32mif\u001b[0m \u001b[0mstatus\u001b[0m \u001b[1;33m!=\u001b[0m \u001b[0mCONTINUE\u001b[0m\u001b[1;33m:\u001b[0m\u001b[1;33m\u001b[0m\u001b[0m\n",
      "\u001b[1;32mC:\\Users\\Huajun\\Anaconda3\\lib\\http\\client.py\u001b[0m in \u001b[0;36m_read_status\u001b[1;34m(self)\u001b[0m\n\u001b[0;32m    265\u001b[0m             \u001b[1;31m# sending a valid response.\u001b[0m\u001b[1;33m\u001b[0m\u001b[1;33m\u001b[0m\u001b[0m\n\u001b[1;32m--> 266\u001b[1;33m             raise RemoteDisconnected(\"Remote end closed connection without\"\n\u001b[0m\u001b[0;32m    267\u001b[0m                                      \" response\")\n",
      "\u001b[1;31mProtocolError\u001b[0m: ('Connection aborted.', RemoteDisconnected('Remote end closed connection without response',))",
      "\nDuring handling of the above exception, another exception occurred:\n",
      "\u001b[1;31mConnectionError\u001b[0m        Traceback (most recent call last)",
      "\u001b[1;32m<ipython-input-11-71c68d5ac814>\u001b[0m in \u001b[0;36m<module>\u001b[1;34m()\u001b[0m\n\u001b[0;32m      1\u001b[0m \u001b[0mclient\u001b[0m \u001b[1;33m=\u001b[0m \u001b[0mbigquery\u001b[0m\u001b[1;33m.\u001b[0m\u001b[0mClient\u001b[0m\u001b[1;33m(\u001b[0m\u001b[1;33m)\u001b[0m\u001b[1;33m\u001b[0m\u001b[0m\n\u001b[1;32m----> 2\u001b[1;33m \u001b[0mq_job\u001b[0m \u001b[1;33m=\u001b[0m \u001b[0mclient\u001b[0m\u001b[1;33m.\u001b[0m\u001b[0mquery\u001b[0m\u001b[1;33m(\u001b[0m\u001b[0mquery\u001b[0m\u001b[1;33m)\u001b[0m\u001b[1;33m\u001b[0m\u001b[0m\n\u001b[0m",
      "\u001b[1;32mC:\\Users\\Huajun\\AppData\\Roaming\\Python\\Python36\\site-packages\\google\\cloud\\bigquery\\client.py\u001b[0m in \u001b[0;36mquery\u001b[1;34m(self, query, job_config, job_id, job_id_prefix, location, project, retry)\u001b[0m\n\u001b[0;32m   2013\u001b[0m         \u001b[0mjob_ref\u001b[0m \u001b[1;33m=\u001b[0m \u001b[0mjob\u001b[0m\u001b[1;33m.\u001b[0m\u001b[0m_JobReference\u001b[0m\u001b[1;33m(\u001b[0m\u001b[0mjob_id\u001b[0m\u001b[1;33m,\u001b[0m \u001b[0mproject\u001b[0m\u001b[1;33m=\u001b[0m\u001b[0mproject\u001b[0m\u001b[1;33m,\u001b[0m \u001b[0mlocation\u001b[0m\u001b[1;33m=\u001b[0m\u001b[0mlocation\u001b[0m\u001b[1;33m)\u001b[0m\u001b[1;33m\u001b[0m\u001b[0m\n\u001b[0;32m   2014\u001b[0m         \u001b[0mquery_job\u001b[0m \u001b[1;33m=\u001b[0m \u001b[0mjob\u001b[0m\u001b[1;33m.\u001b[0m\u001b[0mQueryJob\u001b[0m\u001b[1;33m(\u001b[0m\u001b[0mjob_ref\u001b[0m\u001b[1;33m,\u001b[0m \u001b[0mquery\u001b[0m\u001b[1;33m,\u001b[0m \u001b[0mclient\u001b[0m\u001b[1;33m=\u001b[0m\u001b[0mself\u001b[0m\u001b[1;33m,\u001b[0m \u001b[0mjob_config\u001b[0m\u001b[1;33m=\u001b[0m\u001b[0mjob_config\u001b[0m\u001b[1;33m)\u001b[0m\u001b[1;33m\u001b[0m\u001b[0m\n\u001b[1;32m-> 2015\u001b[1;33m         \u001b[0mquery_job\u001b[0m\u001b[1;33m.\u001b[0m\u001b[0m_begin\u001b[0m\u001b[1;33m(\u001b[0m\u001b[0mretry\u001b[0m\u001b[1;33m=\u001b[0m\u001b[0mretry\u001b[0m\u001b[1;33m)\u001b[0m\u001b[1;33m\u001b[0m\u001b[0m\n\u001b[0m\u001b[0;32m   2016\u001b[0m \u001b[1;33m\u001b[0m\u001b[0m\n\u001b[0;32m   2017\u001b[0m         \u001b[1;32mreturn\u001b[0m \u001b[0mquery_job\u001b[0m\u001b[1;33m\u001b[0m\u001b[0m\n",
      "\u001b[1;32mC:\\Users\\Huajun\\AppData\\Roaming\\Python\\Python36\\site-packages\\google\\cloud\\bigquery\\job.py\u001b[0m in \u001b[0;36m_begin\u001b[1;34m(self, client, retry)\u001b[0m\n\u001b[0;32m   2901\u001b[0m \u001b[1;33m\u001b[0m\u001b[0m\n\u001b[0;32m   2902\u001b[0m         \u001b[1;32mtry\u001b[0m\u001b[1;33m:\u001b[0m\u001b[1;33m\u001b[0m\u001b[0m\n\u001b[1;32m-> 2903\u001b[1;33m             \u001b[0msuper\u001b[0m\u001b[1;33m(\u001b[0m\u001b[0mQueryJob\u001b[0m\u001b[1;33m,\u001b[0m \u001b[0mself\u001b[0m\u001b[1;33m)\u001b[0m\u001b[1;33m.\u001b[0m\u001b[0m_begin\u001b[0m\u001b[1;33m(\u001b[0m\u001b[0mclient\u001b[0m\u001b[1;33m=\u001b[0m\u001b[0mclient\u001b[0m\u001b[1;33m,\u001b[0m \u001b[0mretry\u001b[0m\u001b[1;33m=\u001b[0m\u001b[0mretry\u001b[0m\u001b[1;33m)\u001b[0m\u001b[1;33m\u001b[0m\u001b[0m\n\u001b[0m\u001b[0;32m   2904\u001b[0m         \u001b[1;32mexcept\u001b[0m \u001b[0mexceptions\u001b[0m\u001b[1;33m.\u001b[0m\u001b[0mGoogleCloudError\u001b[0m \u001b[1;32mas\u001b[0m \u001b[0mexc\u001b[0m\u001b[1;33m:\u001b[0m\u001b[1;33m\u001b[0m\u001b[0m\n\u001b[0;32m   2905\u001b[0m             \u001b[0mexc\u001b[0m\u001b[1;33m.\u001b[0m\u001b[0mmessage\u001b[0m \u001b[1;33m+=\u001b[0m \u001b[0mself\u001b[0m\u001b[1;33m.\u001b[0m\u001b[0m_format_for_exception\u001b[0m\u001b[1;33m(\u001b[0m\u001b[0mself\u001b[0m\u001b[1;33m.\u001b[0m\u001b[0mquery\u001b[0m\u001b[1;33m,\u001b[0m \u001b[0mself\u001b[0m\u001b[1;33m.\u001b[0m\u001b[0mjob_id\u001b[0m\u001b[1;33m)\u001b[0m\u001b[1;33m\u001b[0m\u001b[0m\n",
      "\u001b[1;32mC:\\Users\\Huajun\\AppData\\Roaming\\Python\\Python36\\site-packages\\google\\cloud\\bigquery\\job.py\u001b[0m in \u001b[0;36m_begin\u001b[1;34m(self, client, retry)\u001b[0m\n\u001b[0;32m    582\u001b[0m         \u001b[1;31m# job has an ID.\u001b[0m\u001b[1;33m\u001b[0m\u001b[1;33m\u001b[0m\u001b[0m\n\u001b[0;32m    583\u001b[0m         api_response = client._call_api(\n\u001b[1;32m--> 584\u001b[1;33m             \u001b[0mretry\u001b[0m\u001b[1;33m,\u001b[0m \u001b[0mmethod\u001b[0m\u001b[1;33m=\u001b[0m\u001b[1;34m\"POST\"\u001b[0m\u001b[1;33m,\u001b[0m \u001b[0mpath\u001b[0m\u001b[1;33m=\u001b[0m\u001b[0mpath\u001b[0m\u001b[1;33m,\u001b[0m \u001b[0mdata\u001b[0m\u001b[1;33m=\u001b[0m\u001b[0mself\u001b[0m\u001b[1;33m.\u001b[0m\u001b[0mto_api_repr\u001b[0m\u001b[1;33m(\u001b[0m\u001b[1;33m)\u001b[0m\u001b[1;33m\u001b[0m\u001b[0m\n\u001b[0m\u001b[0;32m    585\u001b[0m         )\n\u001b[0;32m    586\u001b[0m         \u001b[0mself\u001b[0m\u001b[1;33m.\u001b[0m\u001b[0m_set_properties\u001b[0m\u001b[1;33m(\u001b[0m\u001b[0mapi_response\u001b[0m\u001b[1;33m)\u001b[0m\u001b[1;33m\u001b[0m\u001b[0m\n",
      "\u001b[1;32mC:\\Users\\Huajun\\AppData\\Roaming\\Python\\Python36\\site-packages\\google\\cloud\\bigquery\\client.py\u001b[0m in \u001b[0;36m_call_api\u001b[1;34m(self, retry, **kwargs)\u001b[0m\n\u001b[0;32m    471\u001b[0m         \u001b[1;32mif\u001b[0m \u001b[0mretry\u001b[0m\u001b[1;33m:\u001b[0m\u001b[1;33m\u001b[0m\u001b[0m\n\u001b[0;32m    472\u001b[0m             \u001b[0mcall\u001b[0m \u001b[1;33m=\u001b[0m \u001b[0mretry\u001b[0m\u001b[1;33m(\u001b[0m\u001b[0mcall\u001b[0m\u001b[1;33m)\u001b[0m\u001b[1;33m\u001b[0m\u001b[0m\n\u001b[1;32m--> 473\u001b[1;33m         \u001b[1;32mreturn\u001b[0m \u001b[0mcall\u001b[0m\u001b[1;33m(\u001b[0m\u001b[1;33m)\u001b[0m\u001b[1;33m\u001b[0m\u001b[0m\n\u001b[0m\u001b[0;32m    474\u001b[0m \u001b[1;33m\u001b[0m\u001b[0m\n\u001b[0;32m    475\u001b[0m     \u001b[1;32mdef\u001b[0m \u001b[0mget_dataset\u001b[0m\u001b[1;33m(\u001b[0m\u001b[0mself\u001b[0m\u001b[1;33m,\u001b[0m \u001b[0mdataset_ref\u001b[0m\u001b[1;33m,\u001b[0m \u001b[0mretry\u001b[0m\u001b[1;33m=\u001b[0m\u001b[0mDEFAULT_RETRY\u001b[0m\u001b[1;33m)\u001b[0m\u001b[1;33m:\u001b[0m\u001b[1;33m\u001b[0m\u001b[0m\n",
      "\u001b[1;32mC:\\Users\\Huajun\\AppData\\Roaming\\Python\\Python36\\site-packages\\google\\api_core\\retry.py\u001b[0m in \u001b[0;36mretry_wrapped_func\u001b[1;34m(*args, **kwargs)\u001b[0m\n\u001b[0;32m    271\u001b[0m                 \u001b[0msleep_generator\u001b[0m\u001b[1;33m,\u001b[0m\u001b[1;33m\u001b[0m\u001b[0m\n\u001b[0;32m    272\u001b[0m                 \u001b[0mself\u001b[0m\u001b[1;33m.\u001b[0m\u001b[0m_deadline\u001b[0m\u001b[1;33m,\u001b[0m\u001b[1;33m\u001b[0m\u001b[0m\n\u001b[1;32m--> 273\u001b[1;33m                 \u001b[0mon_error\u001b[0m\u001b[1;33m=\u001b[0m\u001b[0mon_error\u001b[0m\u001b[1;33m,\u001b[0m\u001b[1;33m\u001b[0m\u001b[0m\n\u001b[0m\u001b[0;32m    274\u001b[0m             )\n\u001b[0;32m    275\u001b[0m \u001b[1;33m\u001b[0m\u001b[0m\n",
      "\u001b[1;32mC:\\Users\\Huajun\\AppData\\Roaming\\Python\\Python36\\site-packages\\google\\api_core\\retry.py\u001b[0m in \u001b[0;36mretry_target\u001b[1;34m(target, predicate, sleep_generator, deadline, on_error)\u001b[0m\n\u001b[0;32m    180\u001b[0m     \u001b[1;32mfor\u001b[0m \u001b[0msleep\u001b[0m \u001b[1;32min\u001b[0m \u001b[0msleep_generator\u001b[0m\u001b[1;33m:\u001b[0m\u001b[1;33m\u001b[0m\u001b[0m\n\u001b[0;32m    181\u001b[0m         \u001b[1;32mtry\u001b[0m\u001b[1;33m:\u001b[0m\u001b[1;33m\u001b[0m\u001b[0m\n\u001b[1;32m--> 182\u001b[1;33m             \u001b[1;32mreturn\u001b[0m \u001b[0mtarget\u001b[0m\u001b[1;33m(\u001b[0m\u001b[1;33m)\u001b[0m\u001b[1;33m\u001b[0m\u001b[0m\n\u001b[0m\u001b[0;32m    183\u001b[0m \u001b[1;33m\u001b[0m\u001b[0m\n\u001b[0;32m    184\u001b[0m         \u001b[1;31m# pylint: disable=broad-except\u001b[0m\u001b[1;33m\u001b[0m\u001b[1;33m\u001b[0m\u001b[0m\n",
      "\u001b[1;32mC:\\Users\\Huajun\\AppData\\Roaming\\Python\\Python36\\site-packages\\google\\cloud\\_http.py\u001b[0m in \u001b[0;36mapi_request\u001b[1;34m(self, method, path, query_params, data, content_type, headers, api_base_url, api_version, expect_json, _target_object)\u001b[0m\n\u001b[0;32m    387\u001b[0m             \u001b[0mcontent_type\u001b[0m\u001b[1;33m=\u001b[0m\u001b[0mcontent_type\u001b[0m\u001b[1;33m,\u001b[0m\u001b[1;33m\u001b[0m\u001b[0m\n\u001b[0;32m    388\u001b[0m             \u001b[0mheaders\u001b[0m\u001b[1;33m=\u001b[0m\u001b[0mheaders\u001b[0m\u001b[1;33m,\u001b[0m\u001b[1;33m\u001b[0m\u001b[0m\n\u001b[1;32m--> 389\u001b[1;33m             \u001b[0mtarget_object\u001b[0m\u001b[1;33m=\u001b[0m\u001b[0m_target_object\u001b[0m\u001b[1;33m,\u001b[0m\u001b[1;33m\u001b[0m\u001b[0m\n\u001b[0m\u001b[0;32m    390\u001b[0m         )\n\u001b[0;32m    391\u001b[0m \u001b[1;33m\u001b[0m\u001b[0m\n",
      "\u001b[1;32mC:\\Users\\Huajun\\AppData\\Roaming\\Python\\Python36\\site-packages\\google\\cloud\\_http.py\u001b[0m in \u001b[0;36m_make_request\u001b[1;34m(self, method, url, data, content_type, headers, target_object)\u001b[0m\n\u001b[0;32m    264\u001b[0m         \u001b[0mheaders\u001b[0m\u001b[1;33m[\u001b[0m\u001b[1;34m\"User-Agent\"\u001b[0m\u001b[1;33m]\u001b[0m \u001b[1;33m=\u001b[0m \u001b[0mself\u001b[0m\u001b[1;33m.\u001b[0m\u001b[0muser_agent\u001b[0m\u001b[1;33m\u001b[0m\u001b[0m\n\u001b[0;32m    265\u001b[0m \u001b[1;33m\u001b[0m\u001b[0m\n\u001b[1;32m--> 266\u001b[1;33m         \u001b[1;32mreturn\u001b[0m \u001b[0mself\u001b[0m\u001b[1;33m.\u001b[0m\u001b[0m_do_request\u001b[0m\u001b[1;33m(\u001b[0m\u001b[0mmethod\u001b[0m\u001b[1;33m,\u001b[0m \u001b[0murl\u001b[0m\u001b[1;33m,\u001b[0m \u001b[0mheaders\u001b[0m\u001b[1;33m,\u001b[0m \u001b[0mdata\u001b[0m\u001b[1;33m,\u001b[0m \u001b[0mtarget_object\u001b[0m\u001b[1;33m)\u001b[0m\u001b[1;33m\u001b[0m\u001b[0m\n\u001b[0m\u001b[0;32m    267\u001b[0m \u001b[1;33m\u001b[0m\u001b[0m\n\u001b[0;32m    268\u001b[0m     def _do_request(\n",
      "\u001b[1;32mC:\\Users\\Huajun\\AppData\\Roaming\\Python\\Python36\\site-packages\\google\\cloud\\_http.py\u001b[0m in \u001b[0;36m_do_request\u001b[1;34m(self, method, url, headers, data, target_object)\u001b[0m\n\u001b[0;32m    293\u001b[0m         \u001b[1;33m:\u001b[0m\u001b[0mreturns\u001b[0m\u001b[1;33m:\u001b[0m \u001b[0mThe\u001b[0m \u001b[0mHTTP\u001b[0m \u001b[0mresponse\u001b[0m\u001b[1;33m.\u001b[0m\u001b[1;33m\u001b[0m\u001b[0m\n\u001b[0;32m    294\u001b[0m         \"\"\"\n\u001b[1;32m--> 295\u001b[1;33m         \u001b[1;32mreturn\u001b[0m \u001b[0mself\u001b[0m\u001b[1;33m.\u001b[0m\u001b[0mhttp\u001b[0m\u001b[1;33m.\u001b[0m\u001b[0mrequest\u001b[0m\u001b[1;33m(\u001b[0m\u001b[0murl\u001b[0m\u001b[1;33m=\u001b[0m\u001b[0murl\u001b[0m\u001b[1;33m,\u001b[0m \u001b[0mmethod\u001b[0m\u001b[1;33m=\u001b[0m\u001b[0mmethod\u001b[0m\u001b[1;33m,\u001b[0m \u001b[0mheaders\u001b[0m\u001b[1;33m=\u001b[0m\u001b[0mheaders\u001b[0m\u001b[1;33m,\u001b[0m \u001b[0mdata\u001b[0m\u001b[1;33m=\u001b[0m\u001b[0mdata\u001b[0m\u001b[1;33m)\u001b[0m\u001b[1;33m\u001b[0m\u001b[0m\n\u001b[0m\u001b[0;32m    296\u001b[0m \u001b[1;33m\u001b[0m\u001b[0m\n\u001b[0;32m    297\u001b[0m     def api_request(\n",
      "\u001b[1;32mC:\\Users\\Huajun\\AppData\\Roaming\\Python\\Python36\\site-packages\\google\\auth\\transport\\requests.py\u001b[0m in \u001b[0;36mrequest\u001b[1;34m(self, method, url, data, headers, **kwargs)\u001b[0m\n\u001b[0;32m    206\u001b[0m \u001b[1;33m\u001b[0m\u001b[0m\n\u001b[0;32m    207\u001b[0m         response = super(AuthorizedSession, self).request(\n\u001b[1;32m--> 208\u001b[1;33m             method, url, data=data, headers=request_headers, **kwargs)\n\u001b[0m\u001b[0;32m    209\u001b[0m \u001b[1;33m\u001b[0m\u001b[0m\n\u001b[0;32m    210\u001b[0m         \u001b[1;31m# If the response indicated that the credentials needed to be\u001b[0m\u001b[1;33m\u001b[0m\u001b[1;33m\u001b[0m\u001b[0m\n",
      "\u001b[1;32mC:\\Users\\Huajun\\Anaconda3\\lib\\site-packages\\requests\\sessions.py\u001b[0m in \u001b[0;36mrequest\u001b[1;34m(self, method, url, params, data, headers, cookies, files, auth, timeout, allow_redirects, proxies, hooks, stream, verify, cert, json)\u001b[0m\n\u001b[0;32m    516\u001b[0m         }\n\u001b[0;32m    517\u001b[0m         \u001b[0msend_kwargs\u001b[0m\u001b[1;33m.\u001b[0m\u001b[0mupdate\u001b[0m\u001b[1;33m(\u001b[0m\u001b[0msettings\u001b[0m\u001b[1;33m)\u001b[0m\u001b[1;33m\u001b[0m\u001b[0m\n\u001b[1;32m--> 518\u001b[1;33m         \u001b[0mresp\u001b[0m \u001b[1;33m=\u001b[0m \u001b[0mself\u001b[0m\u001b[1;33m.\u001b[0m\u001b[0msend\u001b[0m\u001b[1;33m(\u001b[0m\u001b[0mprep\u001b[0m\u001b[1;33m,\u001b[0m \u001b[1;33m**\u001b[0m\u001b[0msend_kwargs\u001b[0m\u001b[1;33m)\u001b[0m\u001b[1;33m\u001b[0m\u001b[0m\n\u001b[0m\u001b[0;32m    519\u001b[0m \u001b[1;33m\u001b[0m\u001b[0m\n\u001b[0;32m    520\u001b[0m         \u001b[1;32mreturn\u001b[0m \u001b[0mresp\u001b[0m\u001b[1;33m\u001b[0m\u001b[0m\n",
      "\u001b[1;32mC:\\Users\\Huajun\\Anaconda3\\lib\\site-packages\\requests\\sessions.py\u001b[0m in \u001b[0;36msend\u001b[1;34m(self, request, **kwargs)\u001b[0m\n\u001b[0;32m    637\u001b[0m \u001b[1;33m\u001b[0m\u001b[0m\n\u001b[0;32m    638\u001b[0m         \u001b[1;31m# Send the request\u001b[0m\u001b[1;33m\u001b[0m\u001b[1;33m\u001b[0m\u001b[0m\n\u001b[1;32m--> 639\u001b[1;33m         \u001b[0mr\u001b[0m \u001b[1;33m=\u001b[0m \u001b[0madapter\u001b[0m\u001b[1;33m.\u001b[0m\u001b[0msend\u001b[0m\u001b[1;33m(\u001b[0m\u001b[0mrequest\u001b[0m\u001b[1;33m,\u001b[0m \u001b[1;33m**\u001b[0m\u001b[0mkwargs\u001b[0m\u001b[1;33m)\u001b[0m\u001b[1;33m\u001b[0m\u001b[0m\n\u001b[0m\u001b[0;32m    640\u001b[0m \u001b[1;33m\u001b[0m\u001b[0m\n\u001b[0;32m    641\u001b[0m         \u001b[1;31m# Total elapsed time of the request (approximately)\u001b[0m\u001b[1;33m\u001b[0m\u001b[1;33m\u001b[0m\u001b[0m\n",
      "\u001b[1;32mC:\\Users\\Huajun\\Anaconda3\\lib\\site-packages\\requests\\adapters.py\u001b[0m in \u001b[0;36msend\u001b[1;34m(self, request, stream, timeout, verify, cert, proxies)\u001b[0m\n\u001b[0;32m    486\u001b[0m \u001b[1;33m\u001b[0m\u001b[0m\n\u001b[0;32m    487\u001b[0m         \u001b[1;32mexcept\u001b[0m \u001b[1;33m(\u001b[0m\u001b[0mProtocolError\u001b[0m\u001b[1;33m,\u001b[0m \u001b[0msocket\u001b[0m\u001b[1;33m.\u001b[0m\u001b[0merror\u001b[0m\u001b[1;33m)\u001b[0m \u001b[1;32mas\u001b[0m \u001b[0merr\u001b[0m\u001b[1;33m:\u001b[0m\u001b[1;33m\u001b[0m\u001b[0m\n\u001b[1;32m--> 488\u001b[1;33m             \u001b[1;32mraise\u001b[0m \u001b[0mConnectionError\u001b[0m\u001b[1;33m(\u001b[0m\u001b[0merr\u001b[0m\u001b[1;33m,\u001b[0m \u001b[0mrequest\u001b[0m\u001b[1;33m=\u001b[0m\u001b[0mrequest\u001b[0m\u001b[1;33m)\u001b[0m\u001b[1;33m\u001b[0m\u001b[0m\n\u001b[0m\u001b[0;32m    489\u001b[0m \u001b[1;33m\u001b[0m\u001b[0m\n\u001b[0;32m    490\u001b[0m         \u001b[1;32mexcept\u001b[0m \u001b[0mMaxRetryError\u001b[0m \u001b[1;32mas\u001b[0m \u001b[0me\u001b[0m\u001b[1;33m:\u001b[0m\u001b[1;33m\u001b[0m\u001b[0m\n",
      "\u001b[1;31mConnectionError\u001b[0m: ('Connection aborted.', RemoteDisconnected('Remote end closed connection without response',))"
     ]
    }
   ],
   "source": [
    "client = bigquery.Client()\n",
    "q_job = client.query(query)"
   ]
  },
  {
   "cell_type": "code",
   "execution_count": 7,
   "metadata": {},
   "outputs": [],
   "source": [
    "util.TIMEOUT = 15"
   ]
  },
  {
   "cell_type": "code",
   "execution_count": 21,
   "metadata": {},
   "outputs": [
    {
     "name": "stdout",
     "output_type": "stream",
     "text": [
      "655000000000\n",
      "654990000000\n",
      "10000000\n",
      "43\n",
      "c7ae6fb55b5919bf8239555a11f0309527bac4f18bdc5b9f98fbcd7bf7e83342\n"
     ]
    }
   ],
   "source": [
    "# unit in satoshi\n",
    "address = blockexplorer.get_address('3JfAJhVeDwm8YWPKDNFjvPtyEEwggXwLLB')\n",
    "address2 = blockexplorer.get_address('3EXxYoB61g13UsH1K678G5zeEE8W3XJ2p3')\n",
    "address3 = blockexplorer.get_address('1NqdBaU9WCvmjGQ1omPx6NHGJYzQo9udd6')\n",
    "print(address.total_received)\n",
    "print(address.total_sent)\n",
    "print(address.final_balance)\n",
    "print(address.n_tx)\n",
    "print(address.transactions[0].hash)"
   ]
  },
  {
   "cell_type": "markdown",
   "metadata": {},
   "source": [
    "idea: use bfs to expand adr to explore. \n",
    "\n",
    "for simplicity, neglect amount of transfer for now\n",
    "\n",
    "for transacitons going out of Target Address, not so interested right now\n",
    "\n",
    "problem: how to distinguish incoming or outgoing tx?\n",
    "\n",
    "timeout: The read operation timed out\n",
    "possible solution: request API key?"
   ]
  },
  {
   "cell_type": "code",
   "execution_count": 18,
   "metadata": {},
   "outputs": [
    {
     "name": "stdout",
     "output_type": "stream",
     "text": [
      "3JfAJhVeDwm8YWPKDNFjvPtyEEwggXwLLB\n",
      "<blockchain.blockexplorer.Address object at 0x00000236C253FCF8>\n"
     ]
    }
   ],
   "source": [
    "tx = address.transactions[0]\n",
    "print(tx.inputs[2].address)\n",
    "print (addr_queue[0])"
   ]
  },
  {
   "cell_type": "code",
   "execution_count": 27,
   "metadata": {},
   "outputs": [
    {
     "name": "stdout",
     "output_type": "stream",
     "text": [
      "iteration :0\n",
      "3JfAJhVeDwm8YWPKDNFjvPtyEEwggXwLLB\n",
      "iteration :1\n",
      "3LC3mbk1NowqEFKfyRxh35DAQhvms7pojA\n",
      "39ACzDZRJBd1STHgvL5AMQvo48iqMoEdSS\n",
      "3PpXuqu2KG4WZmHyFp2XyU5gmaFDxmxJJ1\n",
      "3QxkG5HitPoXsjTfogMk4AYqj4TJhJnZGH\n",
      "3CLon2XMt7yBuVrqtPBw5cW9o93dJeAknM\n",
      "3E9CYFsCiDtQ4xaxsj1hcZLUh8hwpimioj\n",
      "3QiLXF8tpa17k9XLZ4rbcoXTKJDoWsNaGG\n",
      "3MWaY5qReHm3qqnhgYCE437cVD4moWeUys\n",
      "33SBjyCNDr499kFkg93nxchtRg9ij38H2C\n",
      "3QEvTTqJ5eCcXYy2p7jJEtqH4xFnyCjXme\n",
      "37D1iDiquoAW875RXjvPc6HRgsmsLriDbo\n",
      "3N9R1K7r8veTLK16qZGKpP1CVdyKYBmGsc\n",
      "3ESJe7jsjhJrHk9dkvvbqYfscRnrZnwSJx\n",
      "3AzK8em6MeGgZkvDnrzRQS1p1dS4Hkg9KY\n",
      "3E7DcbGJ3XEzffUCKHQw9HorzLc5NiiANC\n",
      "3L9M3qzpoQh4jxaj9iNRx3zxgxB23SJFJZ\n",
      "3NSLeRUGq9pWFuJJjcnvHxRP7SV7g2nNbU\n",
      "35SUxj432rR5upPTQ3BGUydyrFtktfJhxc\n",
      "3PvzNLk5aTUcx347gDpG28jrDGjKytqgKg\n",
      "3M57n3hC8cknGbA1VFmWMaSjjRPRghxrss\n",
      "335pdkwTWmnZ1ssnQPznw24nNrB3WEghXp\n",
      "35QLG6yzjbeBv6DKgW2QhMJ5guq76JanxP\n",
      "3EwkzbWLTch2tP45nAFJsCfyhWF4VcZ1Ba\n",
      "3CwQJRFzHRzkoMP295PEHt9FKUsN8DHHRt\n",
      "38GGWEvS8ufUmdQV9EURuShsSbiCgCqsmD\n",
      "3Na1JeyLibsN2i4NN35MdreKAvDLDUHnDQ\n",
      "3EBR8JsGLvecQGYbxHf3WkAkeThEQtduX7\n",
      "38KcF9PT1MEbSZCZDYkqjetZxEd9ictGhq\n",
      "39HtpgpJUAWvTD3tdDTyE3HTZNnR7YkaXf\n",
      "35mReveJLn6DRPTUcFqmak4PJ1sjqLFh6V\n",
      "33fsrvwdL8JZGqEbkVKo7nTdixB3Sddxu2\n",
      "3N55qiu612hhRwWMzwcyrUH1m9hATKYGYi\n",
      "33XZHXgdTQxAoGehYsWd4sAm4cEpf6Nt8z\n",
      "3AJQSai426ebgQDD1mzByy6S1DXqYF5GaT\n",
      "37sW6HDM6BLd7icE8Rp4UknRLhzLfFjHfi\n",
      "3FAbfQPoP1CT5uKeZFV88pf86BgekySmUv\n",
      "36SbebWiuRwshWByZX67aK9R6XThW3FQgY\n",
      "3QFCQfPLVwUX1wAYe6DhjvGr6Ez7RPyPeN\n",
      "3Pq7Q3CyELn8kvhmm3jdHRCCU7gU4s4uoj\n",
      "3NiwxQuRqawNiQmhGHp2jxEofK91LuG24N\n",
      "3AYwQCxarPFqJWFwx9ySvYvQM8gHxaVUyv\n",
      "3MoETarafjFgWQTM7pvAisLr9LnYtE7AE6\n",
      "3B16hzkAYnm1ZotysYEmRUL1zP15y451by\n",
      "38p9SV5koggFYWs52t2tWp7DvSueo886Tk\n",
      "34DA7PnbQybR9bjZLPvuZafwVrV1CcgZnj\n",
      "37sJVkdZkKt3amXKB6oTKhaXC8svYuBjT5\n",
      "3HqWhxGhuJwXPdNmFNkmRcn8Nay9oDzL6u\n",
      "3C4edWdVU1s6qP47QViJ4JFQct5dX6etqa\n",
      "3QdmbAhmqGWYo5JadmdbWs8W7YAzXXX2wd\n",
      "3HQarBb8wWp2ovVk7GowhMzugEaim5McTC\n",
      "3AiYNh4PtZfpQM8Jrp9kdM56AcJFGeNC2d\n",
      "346WD3coKxmBKx8Cr1sn1XN2sBPd2zoJ3T\n",
      "3HQqWJSCCfytD3ah3u376j9mZSD3VA1KHT\n",
      "3E5B9KBZHMAy21Ekm98yTvYw2gwqnEeZDJ\n",
      "34nDuqMExR9Rx168RvFpFNJ7xXPpHjo63A\n",
      "3PFpbmTaLasX2yhP5knS5xmEvT4DQnsFsE\n",
      "3AQDTspimEBH2phhcSJ91vsZokGZuH4WAD\n",
      "3Hu4h2y4bLNsB9fRSKBrTEuskMGLdN488y\n",
      "3H665GDJjn5BuktDdLEVeKwtQebenuYa6j\n",
      "3KQivY1yfwSFNFNfSTit6vTi3YYazDVBGt\n",
      "3DVX7epWC97rFhPCMUGKLfZ6FVBSJxtQci\n",
      "3EFxzGZxY15UyEkf2h45aqrqXKnhF5YvYv\n",
      "3AYVFyopFWqWUDWNrBWUcXBWbo9cbMXdKh\n",
      "3Q7qXdxm6urZCWf2NAJTZQeyYJzkZNXLAX\n",
      "3JoUWCQXDEAzphBCQsTXUBGMnRdf56vghW\n",
      "35DvPwRdvf9pKmScHcHiW4ui7T4iJ77MxQ\n",
      "3DBkNm2kXThsHhQtBcyj8mXfbFxygZeU3E\n",
      "31ooKJuZR3rQnyXk9ssZmMs9WeLNEe29LV\n",
      "3NoUXciqoMmXihePhfKVTFQQoczrZTVCu6\n",
      "38xjYQ5gURwMfEvqcsQ82v4XigypqDM4Sq\n",
      "3Eby6YEMkFhdzieqWLDP6DJh6VoMhTYrxY\n",
      "3GsVrCW25BVL8cQpbx63gmX6hNbY6oPkeF\n",
      "3DPwj7pdJtbwjvjrzSDCdUFARKQ8LUqgye\n",
      "3HfgrPRwor9qtRukPnattRfyoxRjMsp7qY\n",
      "3AL4DqkwvUZ9HFufGnCo4KD5Hxh8UzUwjN\n",
      "3KkUTaDdG9fktUpp5EpF2xwpsNrUdCTspi\n",
      "32PXTE3k2vcrE88tBp1Cx4kkWzv7NcPh3a\n",
      "36Pr2w3nSGSoFAARBGemZKvUeJRDeHEFRi\n",
      "3MtmjnsVktoS8yRzNsAnWzjypDq11WcL3Y\n",
      "3Csw75PCWWa7QgaP3wHAtuayUdVeTcTuhk\n",
      "3HeVqcRsa6Z6FfnPNKppLNmqSyxqJxzrCR\n",
      "37qzuZZ1mZPek5qYNgm8GadxEp9kYvUepG\n",
      "3CpYDGgfe2NkPV8MWbJAfLekF4jEZv6DNX\n"
     ]
    }
   ],
   "source": [
    "address = '3JfAJhVeDwm8YWPKDNFjvPtyEEwggXwLLB' # tyr with 1 with fewer txs\n",
    "tx_queue = []\n",
    "addr_queue = []\n",
    "addr_queue.append(address)\n",
    "addr_dict = dict() # key:str address, value: number of visits\n",
    "max_iter = 2\n",
    "nodes_per_round = 1\n",
    "for i in range(max_iter):\n",
    "    print (\"iteration :\" + str(i))\n",
    "    if len(addr_queue) == 0:\n",
    "        print (\"max_iter not reached. All possible addresses explored.\")\n",
    "        break;\n",
    "    for j in range(nodes_per_round):\n",
    "        nodes_per_round = 0\n",
    "        address = addr_queue.pop(0)\n",
    "         # this process is slow\n",
    "        if address not in addr_dict:\n",
    "            addr = blockexplorer.get_address(address)\n",
    "            tx_queue.extend(addr.transactions)\n",
    "            addr_dict[address] = 1\n",
    "            print (address)\n",
    "        else:\n",
    "            addr_dict[address] += 1\n",
    "        while len(tx_queue) > 0:\n",
    "            tx = tx_queue.pop(0)\n",
    "            isReceiver = False;\n",
    "            # check if this addr is receiving money\n",
    "            for out in tx.outputs:\n",
    "                if addr.address == out.address:\n",
    "                    isReceiver = True;\n",
    "                    break;\n",
    "            if isReceiver:\n",
    "                for inp in tx.inputs:\n",
    "                    addr_queue.append(inp.address)\n",
    "                    nodes_per_round += 1"
   ]
  },
  {
   "cell_type": "code",
   "execution_count": 28,
   "metadata": {},
   "outputs": [
    {
     "name": "stdout",
     "output_type": "stream",
     "text": [
      "1183\n",
      "0\n",
      "84\n"
     ]
    }
   ],
   "source": [
    "print (len(addr_queue))\n",
    "print (len(tx_queue))\n",
    "print (len(addr_dict))"
   ]
  },
  {
   "cell_type": "code",
   "execution_count": 29,
   "metadata": {},
   "outputs": [
    {
     "name": "stdout",
     "output_type": "stream",
     "text": [
      "3JfAJhVeDwm8YWPKDNFjvPtyEEwggXwLLB 1\n",
      "3LC3mbk1NowqEFKfyRxh35DAQhvms7pojA 1\n",
      "39ACzDZRJBd1STHgvL5AMQvo48iqMoEdSS 1\n",
      "3PpXuqu2KG4WZmHyFp2XyU5gmaFDxmxJJ1 1\n",
      "3QxkG5HitPoXsjTfogMk4AYqj4TJhJnZGH 1\n",
      "3CLon2XMt7yBuVrqtPBw5cW9o93dJeAknM 1\n",
      "3E9CYFsCiDtQ4xaxsj1hcZLUh8hwpimioj 1\n",
      "3QiLXF8tpa17k9XLZ4rbcoXTKJDoWsNaGG 1\n",
      "3MWaY5qReHm3qqnhgYCE437cVD4moWeUys 1\n",
      "33SBjyCNDr499kFkg93nxchtRg9ij38H2C 1\n",
      "3QEvTTqJ5eCcXYy2p7jJEtqH4xFnyCjXme 1\n",
      "37D1iDiquoAW875RXjvPc6HRgsmsLriDbo 1\n",
      "3N9R1K7r8veTLK16qZGKpP1CVdyKYBmGsc 1\n",
      "3ESJe7jsjhJrHk9dkvvbqYfscRnrZnwSJx 1\n",
      "3AzK8em6MeGgZkvDnrzRQS1p1dS4Hkg9KY 1\n",
      "3E7DcbGJ3XEzffUCKHQw9HorzLc5NiiANC 1\n",
      "3L9M3qzpoQh4jxaj9iNRx3zxgxB23SJFJZ 1\n",
      "3NSLeRUGq9pWFuJJjcnvHxRP7SV7g2nNbU 1\n",
      "35SUxj432rR5upPTQ3BGUydyrFtktfJhxc 1\n",
      "3PvzNLk5aTUcx347gDpG28jrDGjKytqgKg 1\n",
      "3M57n3hC8cknGbA1VFmWMaSjjRPRghxrss 1\n",
      "335pdkwTWmnZ1ssnQPznw24nNrB3WEghXp 1\n",
      "35QLG6yzjbeBv6DKgW2QhMJ5guq76JanxP 1\n",
      "3EwkzbWLTch2tP45nAFJsCfyhWF4VcZ1Ba 1\n",
      "3CwQJRFzHRzkoMP295PEHt9FKUsN8DHHRt 1\n",
      "38GGWEvS8ufUmdQV9EURuShsSbiCgCqsmD 1\n",
      "3Na1JeyLibsN2i4NN35MdreKAvDLDUHnDQ 1\n",
      "3EBR8JsGLvecQGYbxHf3WkAkeThEQtduX7 2\n",
      "38KcF9PT1MEbSZCZDYkqjetZxEd9ictGhq 1\n",
      "39HtpgpJUAWvTD3tdDTyE3HTZNnR7YkaXf 2\n",
      "35mReveJLn6DRPTUcFqmak4PJ1sjqLFh6V 1\n",
      "33fsrvwdL8JZGqEbkVKo7nTdixB3Sddxu2 1\n",
      "3N55qiu612hhRwWMzwcyrUH1m9hATKYGYi 2\n",
      "33XZHXgdTQxAoGehYsWd4sAm4cEpf6Nt8z 1\n",
      "3AJQSai426ebgQDD1mzByy6S1DXqYF5GaT 1\n",
      "37sW6HDM6BLd7icE8Rp4UknRLhzLfFjHfi 1\n",
      "3FAbfQPoP1CT5uKeZFV88pf86BgekySmUv 1\n",
      "36SbebWiuRwshWByZX67aK9R6XThW3FQgY 1\n",
      "3QFCQfPLVwUX1wAYe6DhjvGr6Ez7RPyPeN 1\n",
      "3Pq7Q3CyELn8kvhmm3jdHRCCU7gU4s4uoj 1\n",
      "3NiwxQuRqawNiQmhGHp2jxEofK91LuG24N 2\n",
      "3AYwQCxarPFqJWFwx9ySvYvQM8gHxaVUyv 1\n",
      "3MoETarafjFgWQTM7pvAisLr9LnYtE7AE6 2\n",
      "3B16hzkAYnm1ZotysYEmRUL1zP15y451by 2\n",
      "38p9SV5koggFYWs52t2tWp7DvSueo886Tk 1\n",
      "34DA7PnbQybR9bjZLPvuZafwVrV1CcgZnj 1\n",
      "37sJVkdZkKt3amXKB6oTKhaXC8svYuBjT5 1\n",
      "3HqWhxGhuJwXPdNmFNkmRcn8Nay9oDzL6u 1\n",
      "3C4edWdVU1s6qP47QViJ4JFQct5dX6etqa 1\n",
      "3QdmbAhmqGWYo5JadmdbWs8W7YAzXXX2wd 1\n",
      "3HQarBb8wWp2ovVk7GowhMzugEaim5McTC 1\n",
      "3AiYNh4PtZfpQM8Jrp9kdM56AcJFGeNC2d 1\n",
      "346WD3coKxmBKx8Cr1sn1XN2sBPd2zoJ3T 1\n",
      "3HQqWJSCCfytD3ah3u376j9mZSD3VA1KHT 1\n",
      "3E5B9KBZHMAy21Ekm98yTvYw2gwqnEeZDJ 1\n",
      "34nDuqMExR9Rx168RvFpFNJ7xXPpHjo63A 1\n",
      "3PFpbmTaLasX2yhP5knS5xmEvT4DQnsFsE 1\n",
      "3AQDTspimEBH2phhcSJ91vsZokGZuH4WAD 1\n",
      "3Hu4h2y4bLNsB9fRSKBrTEuskMGLdN488y 1\n",
      "3H665GDJjn5BuktDdLEVeKwtQebenuYa6j 1\n",
      "3KQivY1yfwSFNFNfSTit6vTi3YYazDVBGt 1\n",
      "3DVX7epWC97rFhPCMUGKLfZ6FVBSJxtQci 1\n",
      "3EFxzGZxY15UyEkf2h45aqrqXKnhF5YvYv 1\n",
      "3AYVFyopFWqWUDWNrBWUcXBWbo9cbMXdKh 1\n",
      "3Q7qXdxm6urZCWf2NAJTZQeyYJzkZNXLAX 1\n",
      "3JoUWCQXDEAzphBCQsTXUBGMnRdf56vghW 1\n",
      "35DvPwRdvf9pKmScHcHiW4ui7T4iJ77MxQ 1\n",
      "3DBkNm2kXThsHhQtBcyj8mXfbFxygZeU3E 1\n",
      "31ooKJuZR3rQnyXk9ssZmMs9WeLNEe29LV 1\n",
      "3NoUXciqoMmXihePhfKVTFQQoczrZTVCu6 1\n",
      "38xjYQ5gURwMfEvqcsQ82v4XigypqDM4Sq 3\n",
      "3Eby6YEMkFhdzieqWLDP6DJh6VoMhTYrxY 1\n",
      "3GsVrCW25BVL8cQpbx63gmX6hNbY6oPkeF 1\n",
      "3DPwj7pdJtbwjvjrzSDCdUFARKQ8LUqgye 1\n",
      "3HfgrPRwor9qtRukPnattRfyoxRjMsp7qY 1\n",
      "3AL4DqkwvUZ9HFufGnCo4KD5Hxh8UzUwjN 1\n",
      "3KkUTaDdG9fktUpp5EpF2xwpsNrUdCTspi 1\n",
      "32PXTE3k2vcrE88tBp1Cx4kkWzv7NcPh3a 1\n",
      "36Pr2w3nSGSoFAARBGemZKvUeJRDeHEFRi 1\n",
      "3MtmjnsVktoS8yRzNsAnWzjypDq11WcL3Y 1\n",
      "3Csw75PCWWa7QgaP3wHAtuayUdVeTcTuhk 1\n",
      "3HeVqcRsa6Z6FfnPNKppLNmqSyxqJxzrCR 1\n",
      "37qzuZZ1mZPek5qYNgm8GadxEp9kYvUepG 1\n",
      "3CpYDGgfe2NkPV8MWbJAfLekF4jEZv6DNX 1\n"
     ]
    }
   ],
   "source": [
    "for k,v in addr_dict.items():\n",
    "    print (k,v)"
   ]
  },
  {
   "cell_type": "code",
   "execution_count": null,
   "metadata": {
    "collapsed": true
   },
   "outputs": [],
   "source": []
  }
 ],
 "metadata": {
  "kernelspec": {
   "display_name": "Python 3",
   "language": "python",
   "name": "python3"
  },
  "language_info": {
   "codemirror_mode": {
    "name": "ipython",
    "version": 3
   },
   "file_extension": ".py",
   "mimetype": "text/x-python",
   "name": "python",
   "nbconvert_exporter": "python",
   "pygments_lexer": "ipython3",
   "version": "3.6.1"
  }
 },
 "nbformat": 4,
 "nbformat_minor": 2
}
